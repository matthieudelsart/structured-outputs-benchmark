{
 "cells": [
  {
   "cell_type": "code",
   "execution_count": 1,
   "id": "a520c33d",
   "metadata": {},
   "outputs": [],
   "source": [
    "from pathlib import Path\n",
    "import os \n",
    "import sys\n",
    "import numpy as np\n",
    "import json\n",
    "\n",
    "root = Path().resolve().parent\n",
    "\n",
    "root_str = str(root)\n",
    "if root_str not in sys.path:\n",
    "    sys.path.insert(0, root_str)\n",
    "\n",
    "if Path.cwd() != root:\n",
    "    os.chdir(root)\n",
    "    \n",
    "from importlib import reload"
   ]
  },
  {
   "cell_type": "markdown",
   "id": "59f08a14",
   "metadata": {},
   "source": [
    "## Rotowire"
   ]
  },
  {
   "cell_type": "code",
   "execution_count": 21,
   "id": "3a213da1",
   "metadata": {},
   "outputs": [],
   "source": [
    "from jsonschema import Draft7Validator\n",
    "from typing import Any, Dict, List, Tuple\n",
    "\n",
    "def _ok(value: Any, allowed_types) -> bool:\n",
    "    \"\"\"Helper function to check key-wise type.\"\"\"\n",
    "    if not isinstance(allowed_types, list):\n",
    "        allowed_types = [allowed_types]\n",
    "    return (\n",
    "        (value is None and \"null\" in allowed_types) or\n",
    "        (isinstance(value, int)  and \"integer\" in allowed_types) or\n",
    "        (isinstance(value, str)  and \"string\"  in allowed_types)\n",
    "    )\n",
    "\n",
    "def _score_section(data: List[Dict[str, Any]] | None,\n",
    "                   definition: Dict[str, Any],\n",
    "                   min_items: int | None,\n",
    "                   max_items: int | None) -> Tuple[int, int]:\n",
    "    \"\"\"\n",
    "    Returns (valid, total) for the section.\n",
    "    If data is None (missing) or length violates min/max, returns (0, 1) → 0 %.\n",
    "    \"\"\"\n",
    "    if data is None:\n",
    "        return 0, 1                              # missing section → 0 %\n",
    "    if (min_items and len(data) < min_items) or \\\n",
    "       (max_items and len(data) > max_items):\n",
    "        return 0, 1                              # length violation → 0 %\n",
    "\n",
    "    props     = definition[\"properties\"]\n",
    "    required  = set(definition.get(\"required\", []))\n",
    "    allow_add = definition.get(\"additionalProperties\", False)\n",
    "\n",
    "    total = valid = 0\n",
    "    for obj in data:\n",
    "        # Required keys first\n",
    "        for key in required:\n",
    "            total += 1\n",
    "            if key in obj and _ok(obj[key], props[key][\"type\"]):\n",
    "                valid += 1\n",
    "                \n",
    "        # Then looking at the other ones\n",
    "        for key, val in obj.items():\n",
    "            if key in required:\n",
    "                continue\n",
    "            total += 1\n",
    "            if key in props:\n",
    "                if _ok(val, props[key][\"type\"]):\n",
    "                    valid += 1\n",
    "            elif allow_add:\n",
    "                valid += 1                        # Allowed extras\n",
    "            # else: extra - invalid (counts as 0)\n",
    "\n",
    "    return valid, total if total else (0,1)       # avoid div-by-zero\n",
    "\n",
    "def compliance_breakdown(schema: Dict[str, Any],\n",
    "                         record: Dict[str, Any]) -> Dict[str, float]:\n",
    "    \"\"\"Percentage compliance + real Draft-07 errors, handles all edge-cases.\"\"\"\n",
    "    validator = Draft7Validator(schema)\n",
    "    errors    = list(validator.iter_errors(record))\n",
    "\n",
    "    # Pull defs & array length rules from the schema\n",
    "    team_def   = schema[\"definitions\"][\"team\"]\n",
    "    player_def = schema[\"definitions\"][\"player\"]\n",
    "\n",
    "    teams_schema   = schema[\"items\"][\"properties\"][\"teams\"]\n",
    "    players_schema = schema[\"items\"][\"properties\"][\"players\"]\n",
    "\n",
    "    t_valid, t_total = _score_section(\n",
    "        record.get(\"teams\"),\n",
    "        team_def,\n",
    "        teams_schema.get(\"minItems\"),\n",
    "        teams_schema.get(\"maxItems\")\n",
    "    )\n",
    "    p_valid, p_total = _score_section(\n",
    "        record.get(\"players\"),\n",
    "        player_def,\n",
    "        players_schema.get(\"minItems\"),\n",
    "        players_schema.get(\"maxItems\")\n",
    "    )\n",
    "\n",
    "    team_compliance = t_valid / t_total\n",
    "    player_compliance = p_valid / p_total\n",
    "\n",
    "    return {\n",
    "        \"team_compliance_%\":   team_compliance * 100,\n",
    "        \"player_compliance_%\": player_compliance * 100,\n",
    "        \"overall_compliance_%\": float(np.mean([team_compliance, player_compliance])) * 100,\n",
    "        \"errors\": errors\n",
    "    }\n"
   ]
  },
  {
   "cell_type": "code",
   "execution_count": null,
   "id": "d697dcc4",
   "metadata": {},
   "outputs": [
    {
     "name": "stdout",
     "output_type": "stream",
     "text": [
      "Teams:  100.0%\n",
      "Players:100.0%\n",
      "Overall:100.0%\n",
      "{'team_compliance_%': 100.0, 'player_compliance_%': 100.0, 'overall_compliance_%': 100.0, 'errors': []}\n"
     ]
    }
   ],
   "source": [
    "path = \"data/clean/rotowire/\"\n",
    "\n",
    "# Example usage:\n",
    "with open(path + \"schema.json\") as sf, open(path + \"clean.json\") as rf:\n",
    "    schema = json.load(sf)\n",
    "    record = json.load(rf)[0][\"output\"]\n",
    "\n",
    "result = compliance_breakdown(schema, record)\n",
    "print(f\"Teams:  {result['team_compliance_%']:.1f}%\")\n",
    "print(f\"Players:{result['player_compliance_%']:.1f}%\")\n",
    "print(f\"Overall:{result['overall_compliance_%']:.1f}%\")\n",
    "for err in result[\"errors\"]:\n",
    "    print(f\"– {err.message} (at {list(err.absolute_path)})\")\n",
    "print(result)"
   ]
  },
  {
   "cell_type": "code",
   "execution_count": 4,
   "id": "599a1899",
   "metadata": {},
   "outputs": [
    {
     "data": {
      "text/plain": [
       "{'teams': [{'team': 'Suns', 'losses': 38, 'total_points': 87, 'wins': 39},\n",
       "  {'team': 'Jazz', 'losses': 42, 'total_points': 85, 'wins': 34}],\n",
       " 'players': [{'player': 'Gordon Hayward',\n",
       "   'assists': None,\n",
       "   'blocks': None,\n",
       "   '3_pointers_made': None,\n",
       "   'field_goals_attempted': 18,\n",
       "   'minutes_played': None,\n",
       "   'points': 21,\n",
       "   'total_rebounds': None,\n",
       "   'steals': None},\n",
       "  {'player': 'Rudy Gobert',\n",
       "   'assists': 2,\n",
       "   'blocks': 1,\n",
       "   '3_pointers_made': None,\n",
       "   'field_goals_attempted': None,\n",
       "   'minutes_played': 38,\n",
       "   'points': 8,\n",
       "   'total_rebounds': 15,\n",
       "   'steals': 1},\n",
       "  {'player': 'Rodney Hood',\n",
       "   'assists': None,\n",
       "   'blocks': None,\n",
       "   '3_pointers_made': None,\n",
       "   'field_goals_attempted': None,\n",
       "   'minutes_played': None,\n",
       "   'points': 17,\n",
       "   'total_rebounds': None,\n",
       "   'steals': None},\n",
       "  {'player': 'Brandan Wright',\n",
       "   'assists': 1,\n",
       "   'blocks': 4,\n",
       "   '3_pointers_made': None,\n",
       "   'field_goals_attempted': None,\n",
       "   'minutes_played': 33,\n",
       "   'points': 14,\n",
       "   'total_rebounds': 3,\n",
       "   'steals': 3},\n",
       "  {'player': 'TJ Warren',\n",
       "   'assists': None,\n",
       "   'blocks': None,\n",
       "   '3_pointers_made': None,\n",
       "   'field_goals_attempted': None,\n",
       "   'minutes_played': None,\n",
       "   'points': 4,\n",
       "   'total_rebounds': None,\n",
       "   'steals': None},\n",
       "  {'player': 'Gerald Green',\n",
       "   'assists': None,\n",
       "   'blocks': None,\n",
       "   '3_pointers_made': 3,\n",
       "   'field_goals_attempted': None,\n",
       "   'minutes_played': 22,\n",
       "   'points': 24,\n",
       "   'total_rebounds': None,\n",
       "   'steals': None}]}"
      ]
     },
     "execution_count": 4,
     "metadata": {},
     "output_type": "execute_result"
    }
   ],
   "source": [
    "record"
   ]
  },
  {
   "cell_type": "code",
   "execution_count": 21,
   "id": "f052dba4",
   "metadata": {},
   "outputs": [
    {
     "data": {
      "text/plain": [
       "{'is_valid': 1,\n",
       " 'team_compliance_%': 1.0,\n",
       " 'player_compliance_%': 1.0,\n",
       " 'overall_compliance_%': 1.0,\n",
       " 'errors': []}"
      ]
     },
     "execution_count": 21,
     "metadata": {},
     "output_type": "execute_result"
    }
   ],
   "source": [
    "reload(src.evaluate)\n",
    "from src.evaluate import RotowireEvaluator\n",
    "\n",
    "eval = RotowireEvaluator(schema)\n",
    "\n",
    "eval.compliance_breakdown(json.dumps(record))"
   ]
  },
  {
   "cell_type": "code",
   "execution_count": 22,
   "id": "f3d5d0a3",
   "metadata": {},
   "outputs": [
    {
     "data": {
      "text/plain": [
       "{'is_valid': 0,\n",
       " 'team_compliance_%': 1.0,\n",
       " 'player_compliance_%': 0.46296296296296297,\n",
       " 'overall_compliance_%': 0.7314814814814815,\n",
       " 'errors': []}"
      ]
     },
     "execution_count": 22,
     "metadata": {},
     "output_type": "execute_result"
    }
   ],
   "source": [
    "eval.compliance_breakdown(str(record))"
   ]
  },
  {
   "cell_type": "code",
   "execution_count": 23,
   "id": "0d2ae973",
   "metadata": {},
   "outputs": [
    {
     "data": {
      "text/plain": [
       "{'is_valid': 0,\n",
       " 'team_compliance_%': 1.0,\n",
       " 'player_compliance_%': 0.9629629629629629,\n",
       " 'overall_compliance_%': 0.9814814814814814,\n",
       " 'errors': []}"
      ]
     },
     "execution_count": 23,
     "metadata": {},
     "output_type": "execute_result"
    }
   ],
   "source": [
    "record_2 = \"\"\"{'teams': [{'team': 'Suns', 'losses': 38, 'total_points': 87, 'wins': 39},\n",
    "  {'team': 'Jazz', 'losses': 42, 'total_points': 85, 'wins': 34}],\n",
    " 'players': [{'player': 'Gordon Hayward',\n",
    "   'assists': null,\n",
    "   'blocks': null,\n",
    "   '3_pointers_made': null,\n",
    "   'field_goals_attempted': 18,\n",
    "   'minutes_played': null,\n",
    "   'points': 21,\n",
    "   'total_rebounds': null,\n",
    "   'steals': null},\n",
    "  {'player': 'Rudy Gobert',\n",
    "   'assists': 2,\n",
    "   'blocks': 1,\n",
    "   '3_pointers_made': null,\n",
    "   'field_goals_attempted': null,\n",
    "   'minutes_played': 38,\n",
    "   'points': 8,\n",
    "   'total_rebounds': 15,\n",
    "   'steals': 1},\n",
    "  {'player': 'Rodney Hood',\n",
    "   'assists': null,\n",
    "   'blocks': null,\n",
    "   '3_pointers_made': null,\n",
    "   'field_goals_attempted': null,\n",
    "   'minutes_played': null,\n",
    "   'points': 17,\n",
    "   'total_rebounds': null,\n",
    "   'steals': null},\n",
    "  {'player': 'Brandan Wright',\n",
    "   'assists': 1,\n",
    "   'blocks': 4,\n",
    "   '3_pointers_made': null,\n",
    "   'field_goals_attempted': null,\n",
    "   'minutes_played': 33,\n",
    "   'points': 14,\n",
    "   'total_rebounds': 3,\n",
    "   'steals': 3},\n",
    "  {'player': 15,\n",
    "   'assists': null,\n",
    "   'blocks': null,\n",
    "   '3_pointers_made': null,\n",
    "   'field_goals_attempted': null,\n",
    "   'minutes_played': null,\n",
    "   'points': 4,\n",
    "   'total_rebounds': null,\n",
    "   'steals': null},\n",
    "  {'player': 'Gerald Green',\n",
    "   'assists': null,\n",
    "   'blocks': null,\n",
    "   '3_pointers_made': 3,\n",
    "   'field_goals_attempted': null,\n",
    "   'minutes_played': 22,\n",
    "   'points': 24,\n",
    "   'total_rebounds': null,\n",
    "   'ste;als': null}}\"\"\"\n",
    "   \n",
    "eval.compliance_breakdown(record_2)"
   ]
  },
  {
   "cell_type": "code",
   "execution_count": 24,
   "id": "b76e64c1",
   "metadata": {},
   "outputs": [
    {
     "data": {
      "text/plain": [
       "{'ident_f1': 1.0,\n",
       " 'object_attr_F1': 1.0,\n",
       " 'object_value_acc': 1.0,\n",
       " 'object_attribute_score': 1.0,\n",
       " 'overall_score': 1.0}"
      ]
     },
     "execution_count": 24,
     "metadata": {},
     "output_type": "execute_result"
    }
   ],
   "source": [
    "eval.evaluate_game(record, record)"
   ]
  },
  {
   "cell_type": "code",
   "execution_count": 11,
   "id": "3a22f5d0",
   "metadata": {},
   "outputs": [
    {
     "data": {
      "text/plain": [
       "{'teams': [{'team': 'Suns', 'losses': 38, 'total_points': 87, 'wins': 39},\n",
       "  {'team': 'Jazz', 'losses': 42, 'total_points': 85, 'wins': 34}],\n",
       " 'players': [{'player': 'Gordon Hayward',\n",
       "   'assists': None,\n",
       "   'blocks': None,\n",
       "   '3_pointers_made': None,\n",
       "   'field_goals_attempted': 18,\n",
       "   'minutes_played': None,\n",
       "   'points': 21,\n",
       "   'total_rebounds': None,\n",
       "   'steals': None},\n",
       "  {'player': 'Rudy Gobert',\n",
       "   'assists': 2,\n",
       "   'blocks': 1,\n",
       "   '3_pointers_made': None,\n",
       "   'field_goals_attempted': None,\n",
       "   'minutes_played': 38,\n",
       "   'points': 8,\n",
       "   'total_rebounds': 15,\n",
       "   'steals': 1},\n",
       "  {'player': 'Rodney Hood',\n",
       "   'assists': None,\n",
       "   'blocks': None,\n",
       "   '3_pointers_made': None,\n",
       "   'field_goals_attempted': None,\n",
       "   'minutes_played': None,\n",
       "   'points': 17,\n",
       "   'total_rebounds': None,\n",
       "   'steals': None},\n",
       "  {'player': 'Brandan Wright',\n",
       "   'assists': 1,\n",
       "   'blocks': 4,\n",
       "   '3_pointers_made': None,\n",
       "   'field_goals_attempted': None,\n",
       "   'minutes_played': 33,\n",
       "   'points': 14,\n",
       "   'total_rebounds': 3,\n",
       "   'steals': 3},\n",
       "  {'player': 'TJ Warren',\n",
       "   'assists': None,\n",
       "   'blocks': None,\n",
       "   '3_pointers_made': None,\n",
       "   'field_goals_attempted': None,\n",
       "   'minutes_played': None,\n",
       "   'points': 4,\n",
       "   'total_rebounds': None,\n",
       "   'steals': None},\n",
       "  {'player': 'Gerald Green',\n",
       "   'assists': None,\n",
       "   'blocks': None,\n",
       "   '3_pointers_made': 3,\n",
       "   'field_goals_attempted': None,\n",
       "   'minutes_played': 22,\n",
       "   'points': 24,\n",
       "   'total_rebounds': None,\n",
       "   'steals': None}]}"
      ]
     },
     "execution_count": 11,
     "metadata": {},
     "output_type": "execute_result"
    }
   ],
   "source": [
    "record"
   ]
  },
  {
   "cell_type": "markdown",
   "id": "89c79cad",
   "metadata": {},
   "source": [
    "### Another trial"
   ]
  },
  {
   "cell_type": "code",
   "execution_count": 24,
   "id": "e601a59d",
   "metadata": {},
   "outputs": [
    {
     "name": "stdout",
     "output_type": "stream",
     "text": [
      "Overall: 100.0 % valid\n",
      "Team 1: 100.0 % valid\n",
      "Team 2: 100.0 % valid\n",
      "Player 1: 100.0 % valid\n",
      "Player 2: 100.0 % valid\n",
      "Player 3: 100.0 % valid\n",
      "Player 4: 100.0 % valid\n",
      "Player 5: 100.0 % valid\n",
      "Player 6: 100.0 % valid\n",
      "Player 7: 100.0 % valid\n"
     ]
    }
   ],
   "source": [
    "from jsonschema import Draft7Validator\n",
    "from typing import Any, Iterable, Mapping\n",
    "\n",
    "# ── A ── count how many *primitive* checks a schema implies ────────────\n",
    "def _leaf_count(schema: Mapping[str, Any]) -> int:\n",
    "    t = schema.get(\"type\")\n",
    "\n",
    "    if t == \"object\":\n",
    "        return sum(_leaf_count(s) for s in schema.get(\"properties\", {}).values())\n",
    "    if t == \"array\":\n",
    "        return 1 + _leaf_count(schema.get(\"items\", {}))          # 1 for the array itself\n",
    "    return 1                                                     # scalar / “primitive”\n",
    "\n",
    "\n",
    "# ── B ── resolve a JSON-Pointer (RFC 6901) inside *schema* ─────────────\n",
    "def resolve_pointer(schema: Mapping[str, Any], pointer: str) -> Mapping[str, Any]:\n",
    "    \"\"\"\n",
    "    Return the subschema addressed by *pointer* (e.g. \"#/definitions/player\").\n",
    "    Accepts both absolute \"#/…\" and plain \"/…\" forms.\n",
    "    \"\"\"\n",
    "    if pointer.startswith(\"#\"):\n",
    "        pointer = pointer[1:]\n",
    "    if pointer.startswith(\"/\"):\n",
    "        pointer = pointer[1:]\n",
    "\n",
    "    node: Mapping[str, Any] = schema\n",
    "    for token in pointer.split(\"/\"):\n",
    "        # unescape\n",
    "        token = token.replace(\"~1\", \"/\").replace(\"~0\", \"~\")\n",
    "        node = node[token]\n",
    "    return node\n",
    "\n",
    "\n",
    "# ── C ── score data against *any* (sub)schema ──────────────────────────\n",
    "def score_against_schema(schema: Mapping[str, Any], data: Any) -> dict:\n",
    "    \"\"\"\n",
    "    Return {\"percentage\": float, \"failures\": list[ValidationError]}.\n",
    "    \"\"\"\n",
    "    v = Draft7Validator(schema)\n",
    "    errors = list(v.iter_errors(data))\n",
    "    total_checks = _leaf_count(schema)\n",
    "    pct = round(100 * (total_checks - len(errors)) / total_checks, 1) if total_checks else 100.0\n",
    "    return {\"percentage\": pct, \"failures\": errors}\n",
    "\n",
    "def score_collection(root_schema: Mapping[str, Any],\n",
    "                     record: Mapping[str, Any],\n",
    "                     collection_prop: str,\n",
    "                     subschema_pointer: str) -> list[dict]:\n",
    "    \"\"\"\n",
    "    • *collection_prop*        name of the property in *record*\n",
    "    • *subschema_pointer*      JSON-Pointer to the element schema\n",
    "    Returns a list with one report per element.\n",
    "    \"\"\"\n",
    "    subschema = resolve_pointer(root_schema, subschema_pointer)\n",
    "    collection: Iterable[Any] = record.get(collection_prop, [])\n",
    "    return [score_against_schema(subschema, item) for item in collection]\n",
    "\n",
    "\n",
    "root_schema = json.loads(open(r\"data\\clean\\rotowire\\schema.json\").read())  # your Draft-7 file\n",
    "with open(r\"data\\clean\\rotowire\\bench.json\") as rf:\n",
    "    record = json.load(rf)\n",
    "\n",
    "game = record[0][\"output\"]\n",
    "# Whole-record score (optional)\n",
    "overall = score_against_schema(root_schema, game)\n",
    "print(\"Overall:\", overall[\"percentage\"], \"% valid\")\n",
    "\n",
    "# Per-team\n",
    "team_reports = score_collection(root_schema, game,\n",
    "                                collection_prop=\"teams\",\n",
    "                                subschema_pointer=\"#/definitions/team\")\n",
    "\n",
    "# Per-player\n",
    "player_reports = score_collection(root_schema, game,\n",
    "                                  collection_prop=\"players\",\n",
    "                                  subschema_pointer=\"#/definitions/player\")\n",
    "\n",
    "# Pretty-print\n",
    "for i, rep in enumerate(team_reports, 1):\n",
    "    print(f\"Team {i}: {rep['percentage']} % valid\")\n",
    "for i, rep in enumerate(player_reports, 1):\n",
    "    print(f\"Player {i}: {rep['percentage']} % valid\")\n",
    "\n"
   ]
  },
  {
   "cell_type": "markdown",
   "id": "4e843cdb",
   "metadata": {},
   "source": [
    "## Wikibio"
   ]
  },
  {
   "cell_type": "code",
   "execution_count": 5,
   "id": "2596a87d",
   "metadata": {},
   "outputs": [
    {
     "data": {
      "text/plain": [
       "{'compliance': 1.0, 'compliance_errors': []}"
      ]
     },
     "execution_count": 5,
     "metadata": {},
     "output_type": "execute_result"
    }
   ],
   "source": [
    "from src.evaluate import GeneralJsonSchemaEvaluator\n",
    "\n",
    "with open(r\"data\\clean\\wiki_bio\\bench.json\", \"r\") as f:\n",
    "    data = json.load(f)\n",
    "    \n",
    "i = 23\n",
    "\n",
    "validator = GeneralJsonSchemaEvaluator(data[i][\"schema\"])\n",
    "validator.score_against_schema(data[i][\"output\"])"
   ]
  },
  {
   "cell_type": "code",
   "execution_count": 6,
   "id": "004a78c4",
   "metadata": {},
   "outputs": [
    {
     "data": {
      "text/plain": [
       "{'compliance': 0.4,\n",
       " 'compliance_errors': [<ValidationError: \"'article_title' is a required property\">,\n",
       "  <ValidationError: \"'death_place' is a required property\">,\n",
       "  <ValidationError: \"'1925-067' does not match '^\\\\\\\\d{4}(-\\\\\\\\d{2}){0,1}(-\\\\\\\\d{2}){0,1}$'\">,\n",
       "  <ValidationError: \"'2012-01-295' does not match '^\\\\\\\\d{4}(-\\\\\\\\d{2}){0,1}(-\\\\\\\\d{2}){0,1}$'\">,\n",
       "  <ValidationError: \"Additional properties are not allowed ('death_phlace' was unexpected)\">]}"
      ]
     },
     "execution_count": 6,
     "metadata": {},
     "output_type": "execute_result"
    }
   ],
   "source": [
    "output = {'occupation': 'television/film director, producer',\n",
    " 'years_active': '19512009',\n",
    " 'name': 'john rich',\n",
    " 'death_phlace': 'los angeles, california, u.s.',\n",
    " 'birth_place': 'rockaway beach, new york, u.s.',\n",
    " 'death_date': '2012-01-295',\n",
    " 'alma_mater': 'university of michigan',\n",
    " 'birth_date': '1925-067'}\n",
    "\n",
    "validator.score_against_schema(output)"
   ]
  },
  {
   "cell_type": "code",
   "execution_count": null,
   "id": "3c6f915c",
   "metadata": {},
   "outputs": [
    {
     "name": "stdout",
     "output_type": "stream",
     "text": [
      "{'is_valid': 1, 'compliance': 0.4, 'compliance_errors': [<ValidationError: \"'article_title' is a required property\">, <ValidationError: \"'death_place' is a required property\">, <ValidationError: \"'1925-067' does not match '^\\\\\\\\d{4}(-\\\\\\\\d{2}){0,1}(-\\\\\\\\d{2}){0,1}$'\">, <ValidationError: \"'2012-01-295' does not match '^\\\\\\\\d{4}(-\\\\\\\\d{2}){0,1}(-\\\\\\\\d{2}){0,1}$'\">, <ValidationError: \"Additional properties are not allowed ('death_phlace' was unexpected)\">]}\n",
      "{'overall_score': 1.0, 'correctness_errors': []}\n"
     ]
    }
   ],
   "source": [
    "from src.evaluate import WikiBioEvaluator\n",
    "\n",
    "assessor = WikiBioEvaluator()\n",
    "print(assessor.compute_compliance(json.dumps(output), data[i][\"schema\"]))\n",
    "print(assessor.compute_correctness(data[i], {\"output\": output}))"
   ]
  },
  {
   "cell_type": "code",
   "execution_count": 8,
   "id": "8cde60a7",
   "metadata": {},
   "outputs": [
    {
     "data": {
      "text/plain": [
       "{'occupation': 'television/film director, producer',\n",
       " 'article_title': 'john rich (director)',\n",
       " 'years_active': '19512009',\n",
       " 'name': 'john rich',\n",
       " 'death_place': 'los angeles, california, u.s.',\n",
       " 'birth_place': 'rockaway beach, new york, u.s.',\n",
       " 'death_date': '2012-01-29',\n",
       " 'alma_mater': 'university of michigan',\n",
       " 'birth_date': '1925-07'}"
      ]
     },
     "execution_count": 8,
     "metadata": {},
     "output_type": "execute_result"
    }
   ],
   "source": [
    "data[i][\"output\"]"
   ]
  }
 ],
 "metadata": {
  "kernelspec": {
   "display_name": ".venv",
   "language": "python",
   "name": "python3"
  },
  "language_info": {
   "codemirror_mode": {
    "name": "ipython",
    "version": 3
   },
   "file_extension": ".py",
   "mimetype": "text/x-python",
   "name": "python",
   "nbconvert_exporter": "python",
   "pygments_lexer": "ipython3",
   "version": "3.11.11"
  }
 },
 "nbformat": 4,
 "nbformat_minor": 5
}
